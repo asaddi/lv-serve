{
 "cells": [
  {
   "cell_type": "code",
   "execution_count": 1,
   "id": "b9a79366-17cb-48ef-8b67-1e6acda8f3b3",
   "metadata": {},
   "outputs": [],
   "source": [
    "from transformers import MllamaForConditionalGeneration, AutoProcessor\n",
    "from transformers import HqqConfig\n",
    "import torch"
   ]
  },
  {
   "cell_type": "code",
   "execution_count": 2,
   "id": "f30711a6-ac24-48a8-bbf9-bea54ea3d209",
   "metadata": {},
   "outputs": [],
   "source": [
    "#model_id = 'meta-llama/Llama-3.2-11B-Vision-Instruct'\n",
    "model_id = 'Llama-3.2-11B-Vision-Instruct'"
   ]
  },
  {
   "cell_type": "code",
   "execution_count": 3,
   "id": "d77e2716-c8ba-438d-8283-90f9c36c4687",
   "metadata": {},
   "outputs": [
    {
     "name": "stdout",
     "output_type": "stream",
     "text": [
      "\u001b[33mWarning: Quantized meta-data is deprecated and will be removed. It is not supported for quantized model serialization.\u001b[0m\n"
     ]
    }
   ],
   "source": [
    "# nf4 quant\n",
    "dtype = torch.bfloat16\n",
    "q_config = HqqConfig(\n",
    "    nbits=8,\n",
    "    group_size=64,\n",
    ")\n",
    "\n",
    "dest = 'Llama-3.2-11B-Vision-Instruct-hqq-8bit'"
   ]
  },
  {
   "cell_type": "code",
   "execution_count": 5,
   "id": "48bfa6d2-85cd-446b-966c-007f0cf3b33d",
   "metadata": {},
   "outputs": [
    {
     "data": {
      "application/vnd.jupyter.widget-view+json": {
       "model_id": "82959510c8f04a76b3ece346e3bab425",
       "version_major": 2,
       "version_minor": 0
      },
      "text/plain": [
       "Loading checkpoint shards:   0%|          | 0/5 [00:00<?, ?it/s]"
      ]
     },
     "metadata": {},
     "output_type": "display_data"
    },
    {
     "name": "stdout",
     "output_type": "stream",
     "text": [
      "\u001b[33mWarning: Quantizing zeros/scales is deprecated. This setting will be ignored.\u001b[0m\n"
     ]
    }
   ],
   "source": [
    "model = MllamaForConditionalGeneration.from_pretrained(\n",
    "    model_id,\n",
    "    # This doesn't set the dtype of the submodules (vision_model, language_model). Does it matter?\n",
    "    torch_dtype=dtype,\n",
    "    device_map='cuda',\n",
    "    quantization_config=q_config,\n",
    ")"
   ]
  },
  {
   "cell_type": "code",
   "execution_count": 6,
   "id": "6b3e0dfe-8168-43d3-919f-6d223163004d",
   "metadata": {},
   "outputs": [
    {
     "ename": "ValueError",
     "evalue": "The model is quantized with QuantizationMethod.HQQ and is not serializable - check out the warnings from the logger on the traceback to understand the reason why the quantized model is not serializable.",
     "output_type": "error",
     "traceback": [
      "\u001b[1;31m---------------------------------------------------------------------------\u001b[0m",
      "\u001b[1;31mValueError\u001b[0m                                Traceback (most recent call last)",
      "Cell \u001b[1;32mIn[6], line 1\u001b[0m\n\u001b[1;32m----> 1\u001b[0m \u001b[43mmodel\u001b[49m\u001b[38;5;241;43m.\u001b[39;49m\u001b[43msave_pretrained\u001b[49m\u001b[43m(\u001b[49m\u001b[43mdest\u001b[49m\u001b[43m)\u001b[49m\n",
      "File \u001b[1;32mG:\\ML\\transformers-playground\\venv\\Lib\\site-packages\\transformers\\modeling_utils.py:2571\u001b[0m, in \u001b[0;36mPreTrainedModel.save_pretrained\u001b[1;34m(self, save_directory, is_main_process, state_dict, save_function, push_to_hub, max_shard_size, safe_serialization, variant, token, save_peft_format, **kwargs)\u001b[0m\n\u001b[0;32m   2566\u001b[0m quantization_serializable \u001b[38;5;241m=\u001b[39m (\n\u001b[0;32m   2567\u001b[0m     hf_quantizer \u001b[38;5;129;01mis\u001b[39;00m \u001b[38;5;129;01mnot\u001b[39;00m \u001b[38;5;28;01mNone\u001b[39;00m \u001b[38;5;129;01mand\u001b[39;00m \u001b[38;5;28misinstance\u001b[39m(hf_quantizer, HfQuantizer) \u001b[38;5;129;01mand\u001b[39;00m hf_quantizer\u001b[38;5;241m.\u001b[39mis_serializable\n\u001b[0;32m   2568\u001b[0m )\n\u001b[0;32m   2570\u001b[0m \u001b[38;5;28;01mif\u001b[39;00m hf_quantizer \u001b[38;5;129;01mis\u001b[39;00m \u001b[38;5;129;01mnot\u001b[39;00m \u001b[38;5;28;01mNone\u001b[39;00m \u001b[38;5;129;01mand\u001b[39;00m \u001b[38;5;129;01mnot\u001b[39;00m _hf_peft_config_loaded \u001b[38;5;129;01mand\u001b[39;00m \u001b[38;5;129;01mnot\u001b[39;00m quantization_serializable:\n\u001b[1;32m-> 2571\u001b[0m     \u001b[38;5;28;01mraise\u001b[39;00m \u001b[38;5;167;01mValueError\u001b[39;00m(\n\u001b[0;32m   2572\u001b[0m         \u001b[38;5;124mf\u001b[39m\u001b[38;5;124m\"\u001b[39m\u001b[38;5;124mThe model is quantized with \u001b[39m\u001b[38;5;132;01m{\u001b[39;00mhf_quantizer\u001b[38;5;241m.\u001b[39mquantization_config\u001b[38;5;241m.\u001b[39mquant_method\u001b[38;5;132;01m}\u001b[39;00m\u001b[38;5;124m and is not serializable - check out the warnings from\u001b[39m\u001b[38;5;124m\"\u001b[39m\n\u001b[0;32m   2573\u001b[0m         \u001b[38;5;124m\"\u001b[39m\u001b[38;5;124m the logger on the traceback to understand the reason why the quantized model is not serializable.\u001b[39m\u001b[38;5;124m\"\u001b[39m\n\u001b[0;32m   2574\u001b[0m     )\n\u001b[0;32m   2576\u001b[0m \u001b[38;5;28;01mif\u001b[39;00m \u001b[38;5;124m\"\u001b[39m\u001b[38;5;124msave_config\u001b[39m\u001b[38;5;124m\"\u001b[39m \u001b[38;5;129;01min\u001b[39;00m kwargs:\n\u001b[0;32m   2577\u001b[0m     warnings\u001b[38;5;241m.\u001b[39mwarn(\n\u001b[0;32m   2578\u001b[0m         \u001b[38;5;124m\"\u001b[39m\u001b[38;5;124m`save_config` is deprecated and will be removed in v5 of Transformers. Use `is_main_process` instead.\u001b[39m\u001b[38;5;124m\"\u001b[39m\n\u001b[0;32m   2579\u001b[0m     )\n",
      "\u001b[1;31mValueError\u001b[0m: The model is quantized with QuantizationMethod.HQQ and is not serializable - check out the warnings from the logger on the traceback to understand the reason why the quantized model is not serializable."
     ]
    }
   ],
   "source": [
    "model.save_pretrained(dest)"
   ]
  },
  {
   "cell_type": "code",
   "execution_count": 6,
   "id": "a06f6856-9210-4337-a31a-b63f4c9bc0bc",
   "metadata": {},
   "outputs": [
    {
     "data": {
      "text/plain": [
       "[]"
      ]
     },
     "execution_count": 6,
     "metadata": {},
     "output_type": "execute_result"
    }
   ],
   "source": [
    "processor = AutoProcessor.from_pretrained(model_id)\n",
    "processor.save_pretrained(dest)"
   ]
  }
 ],
 "metadata": {
  "kernelspec": {
   "display_name": "Python 3 (ipykernel)",
   "language": "python",
   "name": "python3"
  },
  "language_info": {
   "codemirror_mode": {
    "name": "ipython",
    "version": 3
   },
   "file_extension": ".py",
   "mimetype": "text/x-python",
   "name": "python",
   "nbconvert_exporter": "python",
   "pygments_lexer": "ipython3",
   "version": "3.11.9"
  }
 },
 "nbformat": 4,
 "nbformat_minor": 5
}
